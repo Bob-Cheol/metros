{
 "cells": [
  {
   "cell_type": "code",
   "execution_count": 44,
   "metadata": {},
   "outputs": [
    {
     "name": "stdout",
     "output_type": "stream",
     "text": [
      "<Response [200]>\n"
     ]
    }
   ],
   "source": [
    "from requests import get\n",
    "from bs4 import BeautifulSoup\n",
    "\n",
    "response = get('http://www.gameone.kr/club/info/schedule/boxscore?club_idx=17818&game_idx=1393258')\n",
    "\n",
    "if response.status_code == 200:\n",
    "  print(response)"
   ]
  },
  {
   "cell_type": "code",
   "execution_count": 79,
   "metadata": {},
   "outputs": [
    {
     "name": "stdout",
     "output_type": "stream",
     "text": [
      "team # 1\n",
      "1 \t 중 \t 윤영성\n",
      "2 \t 유 \t 홍중기\n",
      "3 \t 一 \t 채범석\n",
      "4 \t 포 \t 변지인\n",
      "5 \t 투 \t 신승현\n",
      "5 \t 포 \t 김민철\n",
      "6 \t 좌 \t 안종두\n",
      "7 \t 三 \t 정상훈\n",
      "8 \t 우 \t 송범용\n",
      "8 \t 미 \t 최승린\n",
      "9 \t 二 \t 김민한\n",
      "9 \t 二 \t 안성준\n",
      "team # 2\n",
      "1 \t 중 \t 박철영\n",
      "2 \t 二 \t 이원중\n",
      "3 \t 투 \t 이승민\n",
      "4 \t 포 \t 장수원\n",
      "5 \t 유 \t 이준서\n",
      "6 \t 우 \t 신수용\n",
      "7 \t 一 \t 조유빈\n",
      "8 \t 좌 \t 김경현\n",
      "8 \t 좌 \t YuJin\n",
      "9 \t 三 \t 김규림\n"
     ]
    }
   ],
   "source": [
    "soup = BeautifulSoup(response.text, 'html.parser')\n",
    "jobs = soup.find_all('table', class_='record_table inc_round')\n",
    "\n",
    "for i, job in enumerate(jobs):\n",
    "  body = job.find('tbody')\n",
    "  print('team #', i+1)\n",
    "  for player in body.find_all('tr'):\n",
    "    print(\n",
    "      player.find('span', class_='num').string, '\\t',\n",
    "      player.find('span', class_='position').string, '\\t',\n",
    "      player.find('strong').string\n",
    "    )\n",
    "    # for player_record in player.find_all('td'):\n",
    "    #   print(player_record.string)\n",
    "    "
   ]
  }
 ],
 "metadata": {
  "kernelspec": {
   "display_name": "Python 3.9.7 64-bit",
   "language": "python",
   "name": "python3"
  },
  "language_info": {
   "codemirror_mode": {
    "name": "ipython",
    "version": 3
   },
   "file_extension": ".py",
   "mimetype": "text/x-python",
   "name": "python",
   "nbconvert_exporter": "python",
   "pygments_lexer": "ipython3",
   "version": "3.9.7"
  },
  "orig_nbformat": 4,
  "vscode": {
   "interpreter": {
    "hash": "c8375c55c81336353887004a8a0ed729a5528664cfa1d07c62a42c846a25ebdb"
   }
  }
 },
 "nbformat": 4,
 "nbformat_minor": 2
}
